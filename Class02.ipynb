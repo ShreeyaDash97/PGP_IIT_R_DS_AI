{
 "cells": [
  {
   "cell_type": "markdown",
   "id": "b5fbc33f",
   "metadata": {},
   "source": [
    "Q5: Convert 1, 10, 20, 30, 100 from your base to base10.\n",
    "\n",
    "Q6. Write a strategy to convert a number in your base to base 10 in plain english or pseudo code or python\n",
    "\n",
    "Q7. Write a strategy to convert a number in base N to base M in plain english or pseudo code or python"
   ]
  },
  {
   "cell_type": "code",
   "execution_count": null,
   "metadata": {},
   "outputs": [],
   "source": [
    "# 05  Convert 1, 10, 20, 30, 100 from your base to base10.\n",
    "Base 7                     Base 10\n",
    "1                          1\n",
    "10                         7\n",
    "20                         14\n",
    "30                         21\n",
    "100                        49"
   ]
  },
  {
   "cell_type": "code",
   "execution_count": 3,
   "id": "9714c91c",
   "metadata": {},
   "outputs": [
    {
     "data": {
      "text/plain": [
       "49"
      ]
     },
     "execution_count": 3,
     "metadata": {},
     "output_type": "execute_result"
    }
   ],
   "source": [
    "# Q 6  Write a strategy to convert a number in your base to base 10 in plain english or pseudo code or python\n",
    "def baseN_tobase_10(number_str,base):\n",
    "   return sum(int(digit) * (base ** idx) for idx, digit in enumerate(reversed(number_str)))\n",
    "baseN_tobase_10(\"100\", 7)\n",
    "           \n",
    "                                       \n"
   ]
  },
  {
   "cell_type": "code",
   "execution_count": 5,
   "id": "cb4e15ea",
   "metadata": {},
   "outputs": [],
   "source": [
    "# Q7 Strategy to convert a number from base N to base M\n",
    "\n",
    "def baseN_to_base10(number_str, baseN):\n",
    "    return sum(int(d) * (baseN ** i) for i, d in enumerate(reversed(number_str)))\n",
    "\n",
    "def base10_to_baseM(number, baseM):\n",
    "    if number == 0:\n",
    "        return \"0\"\n",
    "    digits = []\n",
    "    while number > 0:\n",
    "        digits.append(str(number % baseM))\n",
    "        number //= baseM\n",
    "    return ''.join(reversed(digits))\n",
    "\n",
    "def baseN_to_baseM(number_str, baseN, baseM):\n",
    "    base10 = baseN_to_base10(number_str, baseN)\n",
    "    return base10_to_baseM(base10, baseM)\n"
   ]
  },
  {
   "cell_type": "markdown",
   "id": "444dd8c5",
   "metadata": {},
   "source": []
  }
 ],
 "metadata": {
  "kernelspec": {
   "display_name": "Python 3",
   "language": "python",
   "name": "python3"
  },
  "language_info": {
   "codemirror_mode": {
    "name": "ipython",
    "version": 3
   },
   "file_extension": ".py",
   "mimetype": "text/x-python",
   "name": "python",
   "nbconvert_exporter": "python",
   "pygments_lexer": "ipython3",
   "version": "3.13.0"
  }
 },
 "nbformat": 4,
 "nbformat_minor": 5
}
